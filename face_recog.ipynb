{
 "cells": [
  {
   "cell_type": "code",
   "execution_count": null,
   "metadata": {},
   "outputs": [],
   "source": [
    "import cv2\n"
   ]
  },
  {
   "cell_type": "code",
   "execution_count": null,
   "metadata": {},
   "outputs": [],
   "source": [
    "import cv2"
   ]
  },
  {
   "cell_type": "code",
   "execution_count": 4,
   "metadata": {},
   "outputs": [],
   "source": [
    "import numpy as np\n",
    "import cv2\n",
    "img= cv2.imread('C:\\\\Users\\\\pughazhenthi\\\\Pictures\\\\Snapseed\\\\pughal.jpeg',0)\n",
    "cv2.imshow('image',img)\n",
    "cv2.waitKey(0)\n",
    "cv2.destroyAllWindows()"
   ]
  },
  {
   "cell_type": "code",
   "execution_count": 1,
   "metadata": {},
   "outputs": [],
   "source": [
    "import numpy as np\n",
    "import cv2\n",
    "\n",
    "new_path = 'C:\\\\Users\\\\pughazhenthi\\\\Anaconda3\\\\Library\\\\etc\\\\haarcascades\\\\'\n",
    "face_cascade = cv2.CascadeClassifier(new_path + 'haarcascade_frontalface_default.xml')\n",
    "eye_cascade = cv2.CascadeClassifier(new_path + 'haarcascade_eye.xml')\n",
    "\n",
    "img = cv2.imread('C:\\\\Users\\\\pughazhenthi\\\\Desktop\\\\Project\\\\test1.jpeg')\n",
    "gray = cv2.cvtColor(img,cv2.COLOR_BGR2GRAY)\n",
    "\n",
    "faces = face_cascade.detectMultiScale(gray, 1.3, 5)\n",
    "for (x,y,w,h) in faces:\n",
    "    img = cv2.rectangle(img,(x,y),(x+w,y+h),(255,0,0),2)\n",
    "    roi_gray = gray[y:y+h, x:x+w]\n",
    "    roi_color = img[y:y+h, x:x+w]\n",
    "    eyes = eye_cascade.detectMultiScale(roi_gray)\n",
    "    for (ex,ey,ew,eh) in eyes:\n",
    "        cv2.rectangle(roi_color,(ex,ey),(ex+ew,ey+eh),(0,255,0),2)\n",
    "\n",
    "cv2.imshow('img',img)\n",
    "cv2.waitKey(0)\n",
    "cv2.destroyAllWindows()"
   ]
  },
  {
   "cell_type": "code",
   "execution_count": 1,
   "metadata": {},
   "outputs": [
    {
     "name": "stdout",
     "output_type": "stream",
     "text": [
      "Automatically created module for IPython interactive environment\n"
     ]
    },
    {
     "ename": "SystemExit",
     "evalue": "1",
     "output_type": "error",
     "traceback": [
      "An exception has occurred, use %tb to see the full traceback.\n",
      "\u001b[1;31mSystemExit\u001b[0m\u001b[1;31m:\u001b[0m 1\n"
     ]
    },
    {
     "name": "stderr",
     "output_type": "stream",
     "text": [
      "C:\\Users\\pughazhenthi\\Anaconda3\\lib\\site-packages\\IPython\\core\\interactiveshell.py:2969: UserWarning: To exit: use 'exit', 'quit', or Ctrl-D.\n",
      "  warn(\"To exit: use 'exit', 'quit', or Ctrl-D.\", stacklevel=1)\n"
     ]
    }
   ],
   "source": [
    "\n",
    "import numpy as np\n",
    "import cv2\n",
    " \n",
    "def build_filters():\n",
    " filters = []\n",
    " ksize = 31\n",
    " for theta in np.arange(0, np.pi, np.pi / 16):\n",
    "     kern = cv2.getGaborKernel((ksize, ksize), 4.0, theta, 10.0, 0.5, 0, ktype=cv2.CV_32F)\n",
    "     kern /= 1.5*kern.sum()\n",
    "     filters.append(kern)\n",
    " return filters\n",
    " \n",
    "def process(img, filters):\n",
    " accum = np.zeros_like(img)\n",
    " for kern in filters:\n",
    "     fimg = cv2.filter2D(img, cv2.CV_8UC3, kern)\n",
    "     np.maximum(accum, fimg, accum)\n",
    " return accum\n",
    " \n",
    "if __name__ == '__main__':\n",
    " import sys\n",
    " \n",
    " print (__doc__)\n",
    " try:\n",
    "    img_fn = 'C:\\\\Users\\\\pughazhenthi\\\\Desktop\\\\Project\\\\test1.jpeg'\n",
    " except:\n",
    "    img_fn = 'C:\\\\Users\\\\pughazhenthi\\\\Desktop\\\\Project\\\\test1.jpeg'\n",
    " \n",
    " img = cv2.imread(img_fn)\n",
    " if img is None:\n",
    "     print ('Failed to load image file:', img_fn)\n",
    " sys.exit(1)\n",
    " \n",
    " filters = build_filters()\n",
    " \n",
    " res1 = process(img, filters)\n",
    " cv2.imshow('result', res1)\n",
    " cv2.waitKey(0)\n",
    " cv2.destroyAllWindows()"
   ]
  },
  {
   "cell_type": "code",
   "execution_count": 3,
   "metadata": {},
   "outputs": [
    {
     "ename": "ModuleNotFoundError",
     "evalue": "No module named 'gabor_kernel'",
     "output_type": "error",
     "traceback": [
      "\u001b[1;31m---------------------------------------------------------------------------\u001b[0m",
      "\u001b[1;31mModuleNotFoundError\u001b[0m                       Traceback (most recent call last)",
      "\u001b[1;32m<ipython-input-3-d563af5ea2e2>\u001b[0m in \u001b[0;36m<module>\u001b[1;34m\u001b[0m\n\u001b[0;32m      1\u001b[0m \u001b[1;32mimport\u001b[0m \u001b[0mnumpy\u001b[0m \u001b[1;32mas\u001b[0m \u001b[0mnp\u001b[0m\u001b[1;33m\u001b[0m\u001b[1;33m\u001b[0m\u001b[0m\n\u001b[1;32m----> 2\u001b[1;33m \u001b[1;32mimport\u001b[0m \u001b[0mgabor_kernel\u001b[0m\u001b[1;33m\u001b[0m\u001b[1;33m\u001b[0m\u001b[0m\n\u001b[0m\u001b[0;32m      3\u001b[0m \u001b[1;32mfrom\u001b[0m \u001b[0mpylab\u001b[0m \u001b[1;32mimport\u001b[0m \u001b[1;33m*\u001b[0m\u001b[1;33m\u001b[0m\u001b[1;33m\u001b[0m\u001b[0m\n\u001b[0;32m      4\u001b[0m \u001b[1;32mfrom\u001b[0m \u001b[0mmatplotlib\u001b[0m\u001b[1;33m.\u001b[0m\u001b[0mwidgets\u001b[0m \u001b[1;32mimport\u001b[0m \u001b[0mSlider\u001b[0m\u001b[1;33m,\u001b[0m \u001b[0mButton\u001b[0m\u001b[1;33m,\u001b[0m \u001b[0mRadioButtons\u001b[0m\u001b[1;33m\u001b[0m\u001b[1;33m\u001b[0m\u001b[0m\n\u001b[0;32m      5\u001b[0m \u001b[1;33m\u001b[0m\u001b[0m\n",
      "\u001b[1;31mModuleNotFoundError\u001b[0m: No module named 'gabor_kernel'"
     ]
    }
   ],
   "source": [
    "import numpy as np \n",
    "import gabor_kernel\n",
    "from pylab import * \n",
    "from matplotlib.widgets import Slider, Button, RadioButtons\n",
    "\n",
    "\n",
    "ax = subplot(111,axisbg=(0.44,0.44,0.44)) \n",
    "subplots_adjust( bottom=0.35) \n",
    "gray()\n",
    "\n",
    "axis([0, 30, 0, 30]) \n",
    "theta_init = np.pi/2 \n",
    "freq_init = 0.25 \n",
    "sigmax_init = 3 \n",
    "sigmay_init = 3\n",
    "\n",
    "nucleo = np.real(gabor_kernel(freq_init, theta=theta_init,sigma_x=sigmax_init, sigma_y=sigmay_init)) \n",
    "ax.imshow(nucleo, interpolation='bicubic')\n",
    "\n",
    "axcolor = 'lightgoldenrodyellow' \n",
    "frequencias = axes([0.25, 0.1, 0.65, 0.03], axisbg=axcolor) \n",
    "thetas = axes([0.25, 0.15, 0.65, 0.03], axisbg=axcolor) \n",
    "sigmasx = axes([0.25, 0.20, 0.65, 0.03], axisbg=axcolor) \n",
    "sigmasy = axes([0.25, 0.25, 0.65, 0.03], axisbg=axcolor) \n",
    "\n",
    "slider_frequencias = Slider(frequencias, 'Freq', 0.05, 0.50, valinit=freq_init) \n",
    "slider_thetas = Slider(thetas, 'Theta', 0, np.pi, valinit=theta_init) \n",
    "slider_sigmasx = Slider(sigmasx, 'Sigma X', 1, 6, valinit=sigmax_init) \n",
    "slider_sigmasy = Slider(sigmasy, 'Sigma Y', 1, 6, valinit=sigmay_init) \n",
    "\n",
    "def update(val): \n",
    "\tfrequencia = slider_frequencias.val \n",
    "\ttheta = slider_thetas.val \n",
    "\tsigmax = slider_sigmasx.val \n",
    "\tsigmay= slider_sigmasy.val \n",
    "\tnucleo = np.real(gabor_kernel(frequencia, theta=theta,sigma_x=sigmax, sigma_y=sigmay))\n",
    "\tax.imshow(nucleo, interpolation='bicubic') \n",
    "\tdraw()\n",
    "\n",
    "slider_frequencias.on_changed(update) \n",
    "slider_thetas.on_changed(update) \n",
    "slider_sigmasx.on_changed(update) \n",
    "slider_sigmasy.on_changed(update)\n",
    "show()"
   ]
  },
  {
   "cell_type": "code",
   "execution_count": null,
   "metadata": {},
   "outputs": [],
   "source": [
    "#pyWavelet\n",
    "\n",
    "import numpy as np\n",
    "import matplotlib.pyplot as plt\n",
    "import cv2\n",
    "import pywt\n",
    "import pywt.data\n",
    "\n",
    "\n",
    "# Load image\n",
    "#original = pywt.data.camera()\n",
    "original = cv2.imread('cropped.jpg')\n",
    "\n",
    "\n",
    "# Wavelet transform of image, and plot approximation and details\n",
    "titles = ['Approximation', ' Horizontal detail',\n",
    "          'Vertical detail', 'Diagonal detail']\n",
    "coeffs2 = pywt.dwt2(original, 'bior1.3')\n",
    "LL, (LH, HL, HH) = coeffs2\n",
    "fig = plt.figure(figsize=(12, 3))\n",
    "for i, a in enumerate([LL, LH, HL, HH]):\n",
    "    ax = fig.add_subplot(1, 4, i + 1)\n",
    "    ax.imshow(a, interpolation=\"nearest\", cmap=plt.cm.gray)\n",
    "    ax.set_title(titles[i], fontsize=10)\n",
    "    ax.set_xticks([])\n",
    "    ax.set_yticks([])\n",
    "\n",
    "fig.tight_layout()\n",
    "plt.show()"
   ]
  },
  {
   "cell_type": "code",
   "execution_count": null,
   "metadata": {},
   "outputs": [],
   "source": [
    "#Wavelet\n",
    "\n",
    "\n",
    "import numpy as np\n",
    "import pywt\n",
    "import cv2    \n",
    "\n",
    "def w2d(img, mode='haar', level=1):\n",
    "    imArray = cv2.imread('cropped.jpg')\n",
    "    #Datatype conversions\n",
    "    #convert to grayscale\n",
    "    imArray = cv2.cvtColor( imArray,cv2.COLOR_BGR2GRAY )\n",
    "    #convert to float\n",
    "    imArray =  np.float32(imArray)   \n",
    "    imArray /= 255;\n",
    "    # compute coefficients \n",
    "    coeffs=pywt.wavedec2(imArray, mode, level=level)\n",
    "\n",
    "    #Process Coefficients\n",
    "    coeffs_H=list(coeffs)  \n",
    "    coeffs_H[0] *= 0;  \n",
    "\n",
    "    # reconstruction\n",
    "    imArray_H=pywt.waverec2(coeffs_H, mode);\n",
    "    imArray_H *= 255;\n",
    "    imArray_H =  np.uint8(imArray_H)\n",
    "    #Display result\n",
    "    cv2.imshow('image',imArray_H)\n",
    "    cv2.waitKey(0)\n",
    "    cv2.destroyAllWindows()\n",
    "\n",
    "w2d(\"test1.png\",'db1',4) #7 is the maximum for boundary effect "
   ]
  },
  {
   "cell_type": "code",
   "execution_count": null,
   "metadata": {},
   "outputs": [],
   "source": []
  },
  {
   "cell_type": "code",
   "execution_count": 2,
   "metadata": {},
   "outputs": [],
   "source": [
    "#pillow crop image\n",
    "\n",
    "from PIL import Image\n",
    "def crop(image_path, coords, saved_location):\n",
    "\n",
    "    \"\"\"\n",
    "    @param image_path: The path to the image to edit\n",
    "    @param coords: A tuple of x/y coordinates (x1, y1, x2, y2)\n",
    "    @param saved_location: Path to save the cropped image\n",
    "    \"\"\"\n",
    "    image_obj = Image.open(image_path)\n",
    "    cropped_image = image_obj.crop(coords)\n",
    "    cropped_image.save(saved_location)\n",
    "    cropped_image.show()\n",
    "if __name__ == '__main__':\n",
    "    image = 'grasshopper.jpg'\n",
    "    crop('C:\\\\Users\\\\pughazhenthi\\\\Desktop\\\\Project\\\\test1.jpeg', (323, 206, 369, 265), 'cropped.jpg')\n",
    "    # top left: 323, 206,\n",
    "    # Bottom right:  369, 265\n",
    "    #crop(image, (161, 166, 706, 1050), 'cropped.jpg')"
   ]
  },
  {
   "cell_type": "code",
   "execution_count": null,
   "metadata": {},
   "outputs": [],
   "source": []
  }
 ],
 "metadata": {
  "kernelspec": {
   "display_name": "Python 3",
   "language": "python",
   "name": "python3"
  },
  "language_info": {
   "codemirror_mode": {
    "name": "ipython",
    "version": 3
   },
   "file_extension": ".py",
   "mimetype": "text/x-python",
   "name": "python",
   "nbconvert_exporter": "python",
   "pygments_lexer": "ipython3",
   "version": "3.6.8"
  }
 },
 "nbformat": 4,
 "nbformat_minor": 2
}
